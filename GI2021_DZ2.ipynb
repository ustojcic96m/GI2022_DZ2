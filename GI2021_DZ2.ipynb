{
 "cells": [
  {
   "cell_type": "code",
   "execution_count": 1,
   "id": "7db40162",
   "metadata": {},
   "outputs": [],
   "source": [
    "import pysam"
   ]
  },
  {
   "cell_type": "code",
   "execution_count": 2,
   "id": "1d292637",
   "metadata": {},
   "outputs": [
    {
     "data": {
      "text/plain": [
       "''"
      ]
     },
     "execution_count": 2,
     "metadata": {},
     "output_type": "execute_result"
    }
   ],
   "source": [
    "pysam.sort('-o', 'merged-tumor-sorted.bam', 'merged-tumor.bam')"
   ]
  },
  {
   "cell_type": "code",
   "execution_count": 3,
   "id": "5149826b",
   "metadata": {},
   "outputs": [
    {
     "data": {
      "text/plain": [
       "''"
      ]
     },
     "execution_count": 3,
     "metadata": {},
     "output_type": "execute_result"
    }
   ],
   "source": [
    "pysam.index('merged-tumor-sorted.bam')"
   ]
  },
  {
   "cell_type": "code",
   "execution_count": 4,
   "id": "efa796ae",
   "metadata": {},
   "outputs": [],
   "source": [
    "bam_file = pysam.AlignmentFile('merged-tumor-sorted.bam', 'r')"
   ]
  },
  {
   "cell_type": "code",
   "execution_count": 5,
   "id": "32032fb4",
   "metadata": {},
   "outputs": [],
   "source": [
    "index = 0\n",
    "reads = []\n",
    "for read in bam_file:\n",
    "    if index == 0:\n",
    "        first_read = read\n",
    "    else:\n",
    "        reads.append(read)\n",
    "    if index > 10:\n",
    "        break\n",
    "    index = index+1"
   ]
  },
  {
   "cell_type": "code",
   "execution_count": 6,
   "id": "826a1da6",
   "metadata": {},
   "outputs": [
    {
     "name": "stdout",
     "output_type": "stream",
     "text": [
      "C0HVYACXX120402:7:1207:5722:57044\t1187\t#20\t9483249\t27\t76M\t#20\t9483382\t209\tTTTTCAAACAGTATCTATGCCTGCCAAATGTGAACATATAAAAAAAAACCAGAATGTGCCATTCTGATTTAAACTG\tarray('B', [28, 28, 27, 29, 31, 30, 31, 31, 29, 31, 35, 30, 29, 31, 34, 30, 29, 23, 41, 32, 20, 30, 29, 34, 34, 29, 30, 31, 30, 30, 30, 33, 33, 26, 39, 12, 25, 19, 32, 30, 35, 28, 35, 33, 23, 33, 35, 36, 30, 38, 33, 41, 34, 35, 31, 33, 23, 30, 30, 36, 27, 32, 29, 34, 35, 41, 33, 31, 33, 29, 32, 32, 31, 31, 31, 34])\t[('XA', 'GL000217.1,-110754,76M,1;'), ('BD', 'NNNNNNNNNNNNNNNNNNNNNNNNNNNNNNNNNNNNNNNNNNNNNNNNNNNNNNNNNNNNNNNNNNNNNNNNNNNN'), ('MD', '76'), ('RG', '1'), ('BI', 'NNNNNNNNNNNNNNNNNNNNNNNNNNNNNNNNNNNNNNNNNNNNNNNNNNNNNNNNNNNNNNNNNNNNNNNNNNNN'), ('NM', 0), ('MQ', 27), ('AS', 76), ('XS', 71)]\n"
     ]
    }
   ],
   "source": [
    "# Inspect fields of the first read\n",
    "print(first_read)"
   ]
  },
  {
   "cell_type": "code",
   "execution_count": 7,
   "id": "75260150",
   "metadata": {},
   "outputs": [
    {
     "name": "stdout",
     "output_type": "stream",
     "text": [
      "1187\n"
     ]
    }
   ],
   "source": [
    "# Print first read flag\n",
    "print(first_read.flag)"
   ]
  },
  {
   "cell_type": "code",
   "execution_count": 8,
   "id": "8c25ec2d",
   "metadata": {},
   "outputs": [
    {
     "name": "stdout",
     "output_type": "stream",
     "text": [
      "163\n",
      "99\n",
      "99\n",
      "99\n",
      "163\n",
      "99\n",
      "1123\n",
      "99\n",
      "1123\n",
      "99\n",
      "163\n"
     ]
    }
   ],
   "source": [
    "# Print flag field for some reads\n",
    "for read in reads:\n",
    "    print(read.flag)"
   ]
  },
  {
   "cell_type": "code",
   "execution_count": 9,
   "id": "dde1e9ec",
   "metadata": {
    "scrolled": true
   },
   "outputs": [
    {
     "name": "stdout",
     "output_type": "stream",
     "text": [
      "Number of unmapped reads: 17765\n",
      "Total number of reads: 2921629\n",
      "Number of reads with mapping quality of 0: 126628\n",
      "Average mapping quality:55.91379158681681\n",
      "Average mapping quality excluding reads with 0 mapping quality:58.446975510921106\n"
     ]
    }
   ],
   "source": [
    "# There are multiple ways to get total number and number of unmapped reads\n",
    "# They can be read from AlignmentFile object\n",
    "unmapped_number_read = bam_file.unmapped\n",
    "mapped_number_read = bam_file.mapped\n",
    "\n",
    "# Or calculated while iterating through all reads\n",
    "total_number = 0\n",
    "unmapped_number_calculate = 0\n",
    "zero_quality_reads_number = 0\n",
    "average_quality = 0\n",
    "\n",
    "bam_file = pysam.AlignmentFile('merged-tumor-sorted.bam', 'r')\n",
    "\n",
    "for read in bam_file:\n",
    "    total_number = total_number + 1\n",
    "    if(read.is_unmapped):\n",
    "        unmapped_number_calculate = unmapped_number_calculate + 1\n",
    "    if(read.mapping_quality == 0):\n",
    "        zero_quality_reads_number = zero_quality_reads_number + 1\n",
    "    else:\n",
    "        average_quality = average_quality + read.mapping_quality    \n",
    "average_quality_non_zero = average_quality / (total_number - zero_quality_reads_number)\n",
    "average_quality = average_quality / total_number\n",
    "\n",
    "# Print calculated values\n",
    "print('Number of unmapped reads: ' + str(unmapped_number_calculate))   \n",
    "print('Total number of reads: ' + str(total_number))\n",
    "print('Number of reads with mapping quality of 0: ' + str(zero_quality_reads_number))\n",
    "print('Average mapping quality:' + str(average_quality))\n",
    "print('Average mapping quality excluding reads with 0 mapping quality:' + str(average_quality_non_zero))"
   ]
  }
 ],
 "metadata": {
  "kernelspec": {
   "display_name": "Python 3 (ipykernel)",
   "language": "python",
   "name": "python3"
  },
  "language_info": {
   "codemirror_mode": {
    "name": "ipython",
    "version": 3
   },
   "file_extension": ".py",
   "mimetype": "text/x-python",
   "name": "python",
   "nbconvert_exporter": "python",
   "pygments_lexer": "ipython3",
   "version": "3.8.10"
  }
 },
 "nbformat": 4,
 "nbformat_minor": 5
}
